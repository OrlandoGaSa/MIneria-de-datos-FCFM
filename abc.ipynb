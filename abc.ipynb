{
 "metadata": {
  "language_info": {
   "codemirror_mode": {
    "name": "ipython",
    "version": 3
   },
   "file_extension": ".py",
   "mimetype": "text/x-python",
   "name": "python",
   "nbconvert_exporter": "python",
   "pygments_lexer": "ipython3",
   "version": "3.8.5"
  },
  "orig_nbformat": 4,
  "kernelspec": {
   "name": "python3",
   "display_name": "Python 3.8.5 64-bit"
  },
  "interpreter": {
   "hash": "f5bd28ee32a81f75b587c4a5c9ba5abfdf032b3105de37173de2ab9e920c5085"
  }
 },
 "nbformat": 4,
 "nbformat_minor": 2,
 "cells": [
  {
   "source": [
    "'Ejercicio 1'\n",
    "a = \"Orlando García Salazar\"\n",
    "b = \"1811901\"\n",
    "\n",
    "ab = a + \" ; \" + b\n",
    "print (ab)"
   ],
   "cell_type": "code",
   "metadata": {},
   "execution_count": 10,
   "outputs": [
    {
     "output_type": "stream",
     "name": "stdout",
     "text": [
      "Orlando García Salazar ; 1811901\n"
     ]
    }
   ]
  },
  {
   "cell_type": "code",
   "execution_count": 18,
   "metadata": {},
   "outputs": [
    {
     "output_type": "stream",
     "name": "stdout",
     "text": [
      "a = 1.000000\n",
      "b = 5.000000\n",
      "\n",
      "1.Suma\n",
      "2.Resta\n",
      "3.Multiplicación\n",
      "4.División\n",
      "5.Exponente\n",
      "\n",
      "Opción: 4\n",
      "La Respuesta es: 0.200000\n"
     ]
    }
   ],
   "source": [
    "'Ejercicio 2'\n",
    "a = float(input(\"Ingresa el primer número: \"))\n",
    "b = float(input(\"Ingresa el segundo número: \"))\n",
    "print(\"a = %f\\nb = %f\" % (a,b))\n",
    "\n",
    "print(\"\\n1.Suma\\n2.Resta\\n3.Multiplicación\\n4.División\\n5.Exponente\")\n",
    "c = int(input(\"\\nSeleccione un número:\" ))\n",
    "if c == 1  :\n",
    "    d = a + b\n",
    "elif c == 2 :\n",
    "    d = a - b\n",
    "elif c == 3 :\n",
    "    d = a * b\n",
    "elif c == 4 :\n",
    "    d = a / b\n",
    "else :\n",
    "    d = a ** b\n",
    "\n",
    "\n",
    "print(\"\\nOpción: %d\\nLa Respuesta es: %f\" % (c,d))"
   ]
  },
  {
   "cell_type": "code",
   "execution_count": 18,
   "metadata": {},
   "outputs": [
    {
     "output_type": "stream",
     "name": "stdout",
     "text": [
      "3\n6\n9\n12\n15\n18\n21\n24\n27\n30\n\nSuma: 165\n"
     ]
    }
   ],
   "source": [
    "'Ejercicio 3'\n",
    "def Suma(arreglo) :\n",
    "    a = 0\n",
    "    for j in range(0,10):\n",
    "        a += int(arreglo[j])\n",
    "    return(a)\n",
    "\n",
    "arr = []\n",
    "for i in range(0, 10):\n",
    "    z = (int(i) + 1) * 3\n",
    "    arr.append(z)\n",
    "    print(arr[i])\n",
    "\n",
    "print(\"\\nSuma: %d\" % (Suma(arr)))"
   ]
  },
  {
   "cell_type": "code",
   "execution_count": 1,
   "metadata": {},
   "outputs": [
    {
     "output_type": "stream",
     "name": "stdout",
     "text": [
      "El número 6 es par\nNone \nEl número 6  no es primo\nUn divisor es: [2]\n"
     ]
    }
   ],
   "source": [
    "def ParImpar(num):\n",
    "    if num % 2 == 0:\n",
    "        z =\"par\"\n",
    "    else:\n",
    "        z = \"impar\"\n",
    "    d = print(\"El número\", num,\"es\", z)\n",
    "    return d\n",
    "\n",
    "def Primo(num):\n",
    "    divi = []\n",
    "    for n in range(2, num):\n",
    "        if num % n == 0:\n",
    "            b = \"no es primo\"\n",
    "            divi.append(n)\n",
    "            break\n",
    "        else:\n",
    "            b = \"es primo\"\n",
    "            break\n",
    "    return b,divi\n",
    "\n",
    "a = int(input(\"Ingrese un número: \"))\n",
    "f = ParImpar(a)\n",
    "p,s = Primo(a)\n",
    "\n",
    "if p == \"no es primo\":\n",
    "    print(f,\"\\nEl número %d  %s\\nUn divisor es: %s\" % (a,p,s))\n",
    "else:\n",
    "    print(f, \"\\nEl número %d %s\" % (a,p))\n"
   ]
  },
  {
   "cell_type": "code",
   "execution_count": null,
   "metadata": {},
   "outputs": [],
   "source": []
  }
 ]
}