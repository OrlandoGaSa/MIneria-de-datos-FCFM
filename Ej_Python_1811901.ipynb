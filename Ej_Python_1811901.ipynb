{
 "metadata": {
  "language_info": {
   "codemirror_mode": {
    "name": "ipython",
    "version": 3
   },
   "file_extension": ".py",
   "mimetype": "text/x-python",
   "name": "python",
   "nbconvert_exporter": "python",
   "pygments_lexer": "ipython3",
   "version": "3.8.5"
  },
  "orig_nbformat": 4,
  "kernelspec": {
   "name": "python3",
   "display_name": "Python 3.8.5 64-bit"
  },
  "interpreter": {
   "hash": "f5bd28ee32a81f75b587c4a5c9ba5abfdf032b3105de37173de2ab9e920c5085"
  }
 },
 "nbformat": 4,
 "nbformat_minor": 2,
 "cells": [
  {
   "source": [
    "'Ejercicio 1'\n",
    "a = \"Orlando García Salazar\"\n",
    "b = \"1811901\"\n",
    "\n",
    "ab = a + \" ; \" + b\n",
    "print (ab)"
   ],
   "cell_type": "code",
   "metadata": {},
   "execution_count": 10,
   "outputs": [
    {
     "output_type": "stream",
     "name": "stdout",
     "text": [
      "Orlando García Salazar ; 1811901\n"
     ]
    }
   ]
  },
  {
   "cell_type": "code",
   "execution_count": 18,
   "metadata": {},
   "outputs": [
    {
     "output_type": "stream",
     "name": "stdout",
     "text": [
      "a = 1.000000\n",
      "b = 5.000000\n",
      "\n",
      "1.Suma\n",
      "2.Resta\n",
      "3.Multiplicación\n",
      "4.División\n",
      "5.Exponente\n",
      "\n",
      "Opción: 4\n",
      "La Respuesta es: 0.200000\n"
     ]
    }
   ],
   "source": [
    "'Ejercicio 2'\n",
    "a = float(input(\"Ingresa el primer número: \"))\n",
    "b = float(input(\"Ingresa el segundo número: \"))\n",
    "print(\"a = %f\\nb = %f\" % (a,b))\n",
    "\n",
    "print(\"\\n1.Suma\\n2.Resta\\n3.Multiplicación\\n4.División\\n5.Exponente\")\n",
    "c = int(input(\"\\nSeleccione un número:\" ))\n",
    "if c == 1  :\n",
    "    d = a + b\n",
    "elif c == 2 :\n",
    "    d = a - b\n",
    "elif c == 3 :\n",
    "    d = a * b\n",
    "elif c == 4 :\n",
    "    d = a / b\n",
    "else :\n",
    "    d = a ** b\n",
    "\n",
    "\n",
    "print(\"\\nOpción: %d\\nLa Respuesta es: %f\" % (c,d))"
   ]
  },
  {
   "cell_type": "code",
   "execution_count": 38,
   "metadata": {},
   "outputs": [
    {
     "output_type": "stream",
     "name": "stdout",
     "text": [
      "3\n6\n9\n12\n15\n18\n21\n24\n27\n30\n\nSuma: 165\n"
     ]
    }
   ],
   "source": [
    "'Ejercicio 3'\n",
    "def Suma(arreglo) :\n",
    "    a = 0\n",
    "    for j in range(10):\n",
    "        a += int(arreglo[j])\n",
    "    return(a)\n",
    "\n",
    "arr = []\n",
    "for i in range(10):\n",
    "    z = (int(i) + 1) * 3\n",
    "    arr.append(z)\n",
    "    print(arr[i])\n",
    "\n",
    "print(\"\\nSuma: %d\" % (Suma(arr)))"
   ]
  },
  {
   "cell_type": "code",
   "execution_count": 18,
   "metadata": {},
   "outputs": [
    {
     "output_type": "stream",
     "name": "stdout",
     "text": [
      "El número 15 es impar \nEl número 15  no es primo\nUn divisor es: [3]\n"
     ]
    }
   ],
   "source": [
    "'Ejercicio 4'\n",
    "def ParImpar(num):\n",
    "    if num % 2 == 0:\n",
    "        z =\"par\"\n",
    "    else:\n",
    "        z = \"impar\"\n",
    "    return z\n",
    "\n",
    "def Primo(num):\n",
    "    divi = []\n",
    "    for n in range(2, num):\n",
    "        if num % n == 0:\n",
    "            b = \"no es primo\"\n",
    "            divi.append(n)\n",
    "            break\n",
    "        else:\n",
    "            b = \"es primo\"\n",
    "    return b,divi\n",
    "\n",
    "a = int(input(\"Ingrese un número: \"))\n",
    "f = ParImpar(a)\n",
    "p,s = Primo(a)\n",
    "\n",
    "if p == \"no es primo\":\n",
    "    print(\"El número\", a,\"es\", f,\"\\nEl número %d  %s\\nUn divisor es: %s\" % (a,p,s))\n",
    "else:\n",
    "    print(\"El número\", a,\"es\", f, \"\\nEl número %d %s\" % (a,p))\n"
   ]
  },
  {
   "cell_type": "code",
   "execution_count": 16,
   "metadata": {},
   "outputs": [
    {
     "output_type": "stream",
     "name": "stdout",
     "text": [
      "a = 3.000000\n",
      "b = 2.000000\n",
      "\n",
      "1.Suma\n",
      "2.Resta\n",
      "3.Multiplicación\n",
      "4.División\n",
      "5.Exponente\n",
      "\n",
      "Opción: 5\n",
      "Resultado: 9.0\n"
     ]
    }
   ],
   "source": [
    "class Cal:\n",
    "\n",
    "    def __init__(self, a, b):\n",
    "        self.a=a\n",
    "        self.b=b\n",
    "    \n",
    "    def __str__(self):\n",
    "        if c == 1:\n",
    "            z= self.a + self.b\n",
    "        elif c == 2 :\n",
    "            z= self.a - self.b\n",
    "        elif c == 3 :\n",
    "            z= self.a * self.b\n",
    "        elif c == 4 :\n",
    "            z= self.a / self.b\n",
    "        else :\n",
    "            z= self.a ** self.b\n",
    "        return \"Resultado: \" + str(z)\n",
    "\n",
    "\n",
    "matiz = []\n",
    "a = float(input(\"Ingresa el primer número: \"))\n",
    "b = float(input(\"Ingresa el segundo número: \"))\n",
    "\n",
    "print(\"a = %f\\nb = %f\" % (a,b))\n",
    "\n",
    "print(\"\\n1.Suma\\n2.Resta\\n3.Multiplicación\\n4.División\\n5.Exponente\")\n",
    "c = int(input(\"\\nSeleccione un número:\" ))\n",
    "print(\"\\nOpción: %d\" % (c))\n",
    "\n",
    "matiz.append(Cal(a,b))\n",
    "for v in matiz:\n",
    "    print(v)"
   ]
  },
  {
   "cell_type": "code",
   "execution_count": 30,
   "metadata": {},
   "outputs": [
    {
     "output_type": "stream",
     "name": "stdout",
     "text": [
      " <class 'float'> \n <class 'int'> \n <class 'bool'> \n <class 'complex'>\n\n 0 \n 5\n\n (0, 1, 2, 3, 4, 5, 'a', 'b', 'c')\nTrue\nTrue\nFalse\n"
     ]
    }
   ],
   "source": [
    "#Tuplas\n",
    "#Crear una variable flotante, integer, boleana y compleja e imprimir el tipo de variable que es.\n",
    "a=1.5\n",
    "b=1\n",
    "c=True\n",
    "d=1+0.5j\n",
    "\n",
    "print(\"\",type(a),\"\\n\",type(b),\"\\n\",type(c),\"\\n\",type(d))\n",
    "#Crear una tupla con valores enteros imprimir el primer y ultimo valor.\n",
    "tup = (0,1,2,3,4,5)\n",
    "print(\"\\n\", tup[0],\"\\n\", tup[5])\n",
    "#Añadir 3 valores de string a la tupla.\n",
    "abc=list(tup)\n",
    "abc.append(\"a\")\n",
    "abc.append(\"b\")\n",
    "abc.append(\"c\")\n",
    "tup = tuple(abc)\n",
    "print(\"\\n\",tup)\n",
    "#Verificar si una variable existe dentro de la tupla.\n",
    "if 0 in tup:\n",
    "    print(True)\n",
    "else:\n",
    "    print(False)\n",
    "\n",
    "if d not in tup:\n",
    "    print(True)\n",
    "else:\n",
    "    print(False)\n",
    "\n",
    "if 5 not in tup:\n",
    "    print(True)\n",
    "else:\n",
    "    print(False)"
   ]
  },
  {
   "cell_type": "code",
   "execution_count": 8,
   "metadata": {},
   "outputs": [
    {
     "output_type": "stream",
     "name": "stdout",
     "text": [
      "Longitud: 40\n\nPar:\n[41296, 56802, 61386, 76128, 8384, 80594, 32346, 29890, 17766, 92210, 91556, 30520, 14144, 57428, 56884, 70040, 61138, 15102, 9756]\nLongitud: 19\n\nImpar:\n[84251, 83123, 99107, 28497, 54145, 87197, 90929, 90527, 48397, 99299, 63557, 39241, 81643, 16257, 391, 11379, 58001, 23333, 34757, 83807, 26203]\nLongitud: 21\n\nOrdenado\n\nPar:\n[92210, 91556, 80594, 76128, 70040, 61386, 61138, 57428, 56884, 56802, 41296, 32346, 30520, 29890, 17766, 15102, 14144, 9756, 8384]\nLongitud: 19\n\nImpar:\n[391, 11379, 16257, 23333, 26203, 28497, 34757, 39241, 48397, 54145, 58001, 63557, 81643, 83123, 83807, 84251, 87197, 90527, 90929, 99107, 99299]\nLongitud: 21\n\n\nPar:\n[92210, 91556, 80594, 76128, 70040, 61386, 61138, 57428, 56884, 56802, 41296, 32346, 30520, 29890, 17766, 15102, 14144, 9756, 8384, -1]\nLongitud: 20\n\nPar:\n[92210, 91556, 80594, 76128, 70040, 61386, 61138, 57428, 56884, 56802, 41296, 32346, 30520, 29890, 17766, 15102, 14144, 9756, 8384]\nLongitud: 19\n\n0\nImpar:\n[391, 11379, 16257, 23333, 26203, 28497, 34757, 39241, 48397, 54145, 58001, 63557, 81643, 83123, 83807, 84251, 87197, 90527, 90929, 99107, 99299]\nLongitud: 21\n\nImpar:\n[]\nLongitud: 0\n\n"
     ]
    }
   ],
   "source": [
    "#Listas\n",
    "import random\n",
    "#Con una funcion (def) crear dos listas nuevas a partir de la lista creada por numeros aleatorios, en la cual en una esten los elementos pares, y en la otra los elementos impares.\n",
    "def Separarlistas(lista):\n",
    "    par,impar=[],[]\n",
    "    for i in range(40):\n",
    "        if lista[i] % 2 == 0:\n",
    "            par.append(lista[i])\n",
    "        else:\n",
    "            impar.append(lista[i])\n",
    "    return par,impar\n",
    "#Crear una lista con 40 elementos aleatorios enteros.\n",
    "num = []\n",
    "for i in range(40):\n",
    "    num.append(random.randint(0,100000))\n",
    "print(\"Longitud: %d\\n\" % (len(num)))\n",
    "\n",
    "\n",
    "#Crear dos variables con la longitud de ambas listas nuevas e imprimir las variables.\n",
    "a,b = Separarlistas(num)\n",
    "print(\"Par:\\n%s\\nLongitud: %d\\n\\nImpar:\\n%s\\nLongitud: %d\\n\" % (a,len(a),b,len(b)))\n",
    "#Ordenar los elementos de la lista par de mayor a menor, y los de la lista impar de menor a mayor.\n",
    "a.sort(reverse = True)\n",
    "b.sort()\n",
    "print(\"Ordenado\\n\")\n",
    "print(\"Par:\\n%s\\nLongitud: %d\\n\\nImpar:\\n%s\\nLongitud: %d\\n\\n\" % (a,len(a),b,len(b)))\n",
    "#Utilizar al menos cuatro de las funciones de listas en python en la lista original de 40 elementos.\n",
    "a.append(-1)\n",
    "print(a)\n",
    "a.remove(-1)\n",
    "print(\"\\nPar:\\n%s\\nLong)itud: %d\" % (a,len(a))\n",
    "print(b.count(-1))\n",
    "p\\nrint(\"Impar:\\n)%s\\nLongitud: %d\" % (b,len(b)))\n",
    "b.clear()\n",
    "print(\"Im\\npar:\\n%s\\nLongitud: %d\" % (b,len(b)))\n",
    "\\n"
   ]
  },
  {
   "cell_type": "code",
   "execution_count": 9,
   "metadata": {},
   "outputs": [
    {
     "output_type": "stream",
     "name": "stdout",
     "text": [
      "[5, 15, 20, 21, 24, 36] \n",
      "\n",
      "Juan\n",
      "Orlando\n",
      "Valeria\n",
      "Dana\n",
      "Yusef\n",
      "Joel\n",
      "\n",
      " {'Juan': '21', 'Orlando': '20', 'Valeria': '15', 'Dana': '5', 'Yusef': '36', 'Joel': '24', 'María': '58', 'Beatriz': '47'}\n"
     ]
    }
   ],
   "source": [
    "#Diccionarios\n",
    "Dic,p={},[]\n",
    "#Crear un diccionario de 6 personas que conozcas con su primer nombre y su edad.\n",
    "for x in range(6):\n",
    "    C=input(\"Ingrese el Nombre: \")\n",
    "    F=input(\"Ingrese la Edad: \")\n",
    "    Dic[C]=F\n",
    "#Crear una lista con los valores de la edad y reacomodar la lista de menor a mayor valor.\n",
    "for key in Dic:\n",
    "    p.append(int(Dic[key]))\n",
    "p.sort(reverse=False)\n",
    "print(p,\"\\n\")\n",
    "#Usando el diccionario y un loop, imprimir solo los nombres.\n",
    "for key in Dic:\n",
    "    print(key)\n",
    "#Añadir dos personas nuevas a tu diccionario, incluyendo edad.\n",
    "for x in range(2):\n",
    "    C=input(\"Ingrese el Nombre: \")\n",
    "    F=input(\"Ingrese la Edad: \")\n",
    "    Dic[C]=F\n",
    "\n",
    "print(\"\\n\",Dic)"
   ]
  },
  {
   "cell_type": "code",
   "execution_count": 43,
   "metadata": {},
   "outputs": [
    {
     "output_type": "stream",
     "name": "stdout",
     "text": [
      "{1, 2, 3, 5, 6, 7, 8, 9, 10, 11, 12, 13, 14, 15, 16, 17, 18, 19, 20, 21, 22, 23, 24, 25}\nLongitud:  24\n[6, 5, 4, 1, 7, 2, 10, 7, 6, 8]\n{6: True, 5: True, 4: False, 1: True, 7: True, 2: True, 10: True, 8: True}\n"
     ]
    }
   ],
   "source": [
    "#Sets\n",
    "import random as r\n",
    "A,B,C=set([]),[],{}\n",
    "#Crea un set con 100 numeros aleatorios enteros del 1 al 25.\n",
    "for i in range(100):\n",
    "    A.add(r.randint(1,25))\n",
    "print(A)\n",
    "#Comprueba la longitud de tu set.\n",
    "print(\"Longitud: \",len(A))\n",
    "#Crea una lista de 5 numeros aleatorios del 1 al 10 y comprueba si cada valor aparece en el set inicial.\n",
    "for i in range(10):\n",
    "    B.append(r.randint(1,10))\n",
    "    if B[i] in list(A) :\n",
    "        C[B[i]]=True\n",
    "    else:\n",
    "        C[B[i]]=False\n",
    "\n",
    "print(B)\n",
    "print(C)\n",
    "\n",
    "\n"
   ]
  }
 ]
}